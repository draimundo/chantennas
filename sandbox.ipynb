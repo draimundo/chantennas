{
 "cells": [
  {
   "cell_type": "code",
   "execution_count": 1,
   "metadata": {},
   "outputs": [],
   "source": [
    "import requests\n",
    "import json\n",
    "import os.path\n",
    "import os\n",
    "import pandas"
   ]
  },
  {
   "cell_type": "code",
   "execution_count": 2,
   "metadata": {},
   "outputs": [
    {
     "data": {
      "text/plain": [
       "<bound method NDFrame.head of           type geometry.type geometry.coordinates properties.station  \\\n",
       "0      Feature         Point   [2696232, 1245826]    Sunrise ZU374-1   \n",
       "1      Feature         Point   [2578377, 1194504]      Salt FR_2257C   \n",
       "2      Feature         Point   [2674875, 1249663]      Salt ZH_7071A   \n",
       "3      Feature         Point   [2668168, 1211677]      Swisscom LUVE   \n",
       "4      Feature         Point   [2498264, 1118771]      Salt GE_0030C   \n",
       "...        ...           ...                  ...                ...   \n",
       "19749  Feature         Point   [2557973, 1144745]      Swisscom CHAI   \n",
       "19750  Feature         Point   [2578177, 1185947]      Swisscom GRPA   \n",
       "19751  Feature         Point   [2600108, 1198133]      Swisscom WAMO   \n",
       "19752  Feature         Point   [2620329, 1227708]      Swisscom HERZ   \n",
       "19753  Feature         Point   [2593268, 1119958]      Swisscom SISG   \n",
       "\n",
       "      properties.typ_de properties.typ_fr properties.typ_it properties.typ_en  \\\n",
       "0      Outdoor > 6 Werp  Outdoor > 6 Werp  Outdoor > 6 Werp  Outdoor > 6 Werp   \n",
       "1      Outdoor > 6 Werp  Outdoor > 6 Werp  Outdoor > 6 Werp  Outdoor > 6 Werp   \n",
       "2       Indoor ≤ 6 Werp   Indoor ≤ 6 Werp   Indoor ≤ 6 Werp   Indoor ≤ 6 Werp   \n",
       "3                                                                               \n",
       "4      Outdoor > 6 Werp  Outdoor > 6 Werp  Outdoor > 6 Werp  Outdoor > 6 Werp   \n",
       "...                 ...               ...               ...               ...   \n",
       "19749                                                                           \n",
       "19750                                                                           \n",
       "19751                                                                           \n",
       "19752                                                                           \n",
       "19753                                                                           \n",
       "\n",
       "      properties.koord                     properties.power_de  ...  \\\n",
       "0      2696232,1245826  Leistungsklasse : mittel (bis 5'000 W)  ...   \n",
       "1      2578377,1194504  Leistungsklasse : gross (über 5'000 W)  ...   \n",
       "2      2674875,1249663  Leistungsklasse : sehr klein (bis 6 W)  ...   \n",
       "3      2668168,1211677  Leistungsklasse : mittel (bis 5'000 W)  ...   \n",
       "4      2498264,1118771  Leistungsklasse : mittel (bis 5'000 W)  ...   \n",
       "...                ...                                     ...  ...   \n",
       "19749  2557973,1144745  Leistungsklasse : mittel (bis 5'000 W)  ...   \n",
       "19750  2578177,1185947  Leistungsklasse : mittel (bis 5'000 W)  ...   \n",
       "19751  2600108,1198133  Leistungsklasse : mittel (bis 5'000 W)  ...   \n",
       "19752  2620329,1227708  Leistungsklasse : gross (über 5'000 W)  ...   \n",
       "19753  2593268,1119958  Leistungsklasse : mittel (bis 5'000 W)  ...   \n",
       "\n",
       "                       properties.adaptiv_it         properties.adaptiv_en  \\\n",
       "0      Funzionamento parzialmente adattativo  Partially adaptive operation   \n",
       "1                                                                            \n",
       "2                                                                            \n",
       "3                                                                            \n",
       "4      Funzionamento parzialmente adattativo  Partially adaptive operation   \n",
       "...                                      ...                           ...   \n",
       "19749  Funzionamento parzialmente adattativo  Partially adaptive operation   \n",
       "19750  Funzionamento parzialmente adattativo  Partially adaptive operation   \n",
       "19751  Funzionamento parzialmente adattativo  Partially adaptive operation   \n",
       "19752  Funzionamento parzialmente adattativo  Partially adaptive operation   \n",
       "19753                                                                        \n",
       "\n",
       "                               properties.bewilligung_de  \\\n",
       "0                          Standortdatenblatt 2023-07-18   \n",
       "1                          Standortdatenblatt 2020-05-11   \n",
       "2      Die Anlage unterliegt aufgrund ihrer geringen ...   \n",
       "3                          Standortdatenblatt 2022-10-11   \n",
       "4                          Standortdatenblatt 2024-07-22   \n",
       "...                                                  ...   \n",
       "19749                      Standortdatenblatt 2021-06-03   \n",
       "19750                      Standortdatenblatt 2021-06-02   \n",
       "19751                      Standortdatenblatt 2022-09-27   \n",
       "19752                      Standortdatenblatt 2022-08-09   \n",
       "19753                      Standortdatenblatt 2016-04-11   \n",
       "\n",
       "                               properties.bewilligung_fr  \\\n",
       "0                            Fiche de données 2023-07-18   \n",
       "1                            Fiche de données 2020-05-11   \n",
       "2      En raison de sa faible puissance d'émission, d...   \n",
       "3                            Fiche de données 2022-10-11   \n",
       "4                            Fiche de données 2024-07-22   \n",
       "...                                                  ...   \n",
       "19749                        Fiche de données 2021-06-03   \n",
       "19750                        Fiche de données 2021-06-02   \n",
       "19751                        Fiche de données 2022-09-27   \n",
       "19752                        Fiche de données 2022-08-09   \n",
       "19753                        Fiche de données 2016-04-11   \n",
       "\n",
       "                               properties.bewilligung_it  \\\n",
       "0                    Scheda dei dati sul sito 2023-07-18   \n",
       "1                    Scheda dei dati sul sito 2020-05-11   \n",
       "2      A causa della bassa potenza di trasmissione, d...   \n",
       "3                    Scheda dei dati sul sito 2022-10-11   \n",
       "4                    Scheda dei dati sul sito 2024-07-22   \n",
       "...                                                  ...   \n",
       "19749                Scheda dei dati sul sito 2021-06-03   \n",
       "19750                Scheda dei dati sul sito 2021-06-02   \n",
       "19751                Scheda dei dati sul sito 2022-09-27   \n",
       "19752                Scheda dei dati sul sito 2022-08-09   \n",
       "19753                Scheda dei dati sul sito 2016-04-11   \n",
       "\n",
       "                               properties.bewilligung_en  \\\n",
       "0                             Site data sheet 2023-07-18   \n",
       "1                             Site data sheet 2020-05-11   \n",
       "2      Due to its low transmitting power, its locatio...   \n",
       "3                             Site data sheet 2022-10-11   \n",
       "4                             Site data sheet 2024-07-22   \n",
       "...                                                  ...   \n",
       "19749                         Site data sheet 2021-06-03   \n",
       "19750                         Site data sheet 2021-06-02   \n",
       "19751                         Site data sheet 2022-09-27   \n",
       "19752                         Site data sheet 2022-08-09   \n",
       "19753                         Site data sheet 2016-04-11   \n",
       "\n",
       "             properties.agw_de                        properties.agw_fr  \\\n",
       "0      Anlagegrenzwert 5.0 V/m  Valeur limite de l’installation 5.0 V/m   \n",
       "1      Anlagegrenzwert 5.0 V/m  Valeur limite de l’installation 5.0 V/m   \n",
       "2                                                                         \n",
       "3      Anlagegrenzwert 5.0 V/m  Valeur limite de l’installation 5.0 V/m   \n",
       "4      Anlagegrenzwert 5.0 V/m  Valeur limite de l’installation 5.0 V/m   \n",
       "...                        ...                                      ...   \n",
       "19749  Anlagegrenzwert 5.0 V/m  Valeur limite de l’installation 5.0 V/m   \n",
       "19750  Anlagegrenzwert 5.0 V/m  Valeur limite de l’installation 5.0 V/m   \n",
       "19751  Anlagegrenzwert 5.0 V/m  Valeur limite de l’installation 5.0 V/m   \n",
       "19752  Anlagegrenzwert 5.0 V/m  Valeur limite de l’installation 5.0 V/m   \n",
       "19753  Anlagegrenzwert 5.0 V/m  Valeur limite de l’installation 5.0 V/m   \n",
       "\n",
       "                         properties.agw_it                 properties.agw_en  \n",
       "0      Valore limite dell’impianto 5.0 V/m  Installation limit value 5.0 V/m  \n",
       "1      Valore limite dell’impianto 5.0 V/m  Installation limit value 5.0 V/m  \n",
       "2                                                                             \n",
       "3      Valore limite dell’impianto 5.0 V/m  Installation limit value 5.0 V/m  \n",
       "4      Valore limite dell’impianto 5.0 V/m  Installation limit value 5.0 V/m  \n",
       "...                                    ...                               ...  \n",
       "19749  Valore limite dell’impianto 5.0 V/m  Installation limit value 5.0 V/m  \n",
       "19750  Valore limite dell’impianto 5.0 V/m  Installation limit value 5.0 V/m  \n",
       "19751  Valore limite dell’impianto 5.0 V/m  Installation limit value 5.0 V/m  \n",
       "19752  Valore limite dell’impianto 5.0 V/m  Installation limit value 5.0 V/m  \n",
       "19753  Valore limite dell’impianto 5.0 V/m  Installation limit value 5.0 V/m  \n",
       "\n",
       "[19754 rows x 29 columns]>"
      ]
     },
     "execution_count": 2,
     "metadata": {},
     "output_type": "execute_result"
    }
   ],
   "source": [
    "data = json.load(open('./data/standorte-mobilfunkanlagen_2056.json'))\n",
    "df = pandas.json_normalize(data['features'])\n",
    "df.head"
   ]
  },
  {
   "cell_type": "code",
   "execution_count": 3,
   "metadata": {},
   "outputs": [
    {
     "data": {
      "text/plain": [
       "0        [2696232, 1245826]\n",
       "1        [2578377, 1194504]\n",
       "2        [2674875, 1249663]\n",
       "3        [2668168, 1211677]\n",
       "4        [2498264, 1118771]\n",
       "                ...        \n",
       "19749    [2557973, 1144745]\n",
       "19750    [2578177, 1185947]\n",
       "19751    [2600108, 1198133]\n",
       "19752    [2620329, 1227708]\n",
       "19753    [2593268, 1119958]\n",
       "Name: geometry.coordinates, Length: 19754, dtype: object"
      ]
     },
     "execution_count": 3,
     "metadata": {},
     "output_type": "execute_result"
    }
   ],
   "source": [
    "df[\"geometry.coordinates\"][:][:]"
   ]
  },
  {
   "cell_type": "code",
   "execution_count": 5,
   "metadata": {},
   "outputs": [
    {
     "ename": "ValueError",
     "evalue": "Length of values (2) does not match length of index (19754)",
     "output_type": "error",
     "traceback": [
      "\u001b[0;31m---------------------------------------------------------------------------\u001b[0m",
      "\u001b[0;31mValueError\u001b[0m                                Traceback (most recent call last)",
      "\u001b[1;32mUntitled-1.ipynb Cell 4\u001b[0m line \u001b[0;36m3\n\u001b[1;32m      <a href='vscode-notebook-cell:Untitled-1.ipynb?jupyter-notebook#W3sdW50aXRsZWQ%3D?line=0'>1</a>\u001b[0m \u001b[39mfrom\u001b[39;00m \u001b[39mpyproj\u001b[39;00m \u001b[39mimport\u001b[39;00m Transformer\n\u001b[1;32m      <a href='vscode-notebook-cell:Untitled-1.ipynb?jupyter-notebook#W3sdW50aXRsZWQ%3D?line=1'>2</a>\u001b[0m transformer \u001b[39m=\u001b[39m Transformer\u001b[39m.\u001b[39mfrom_crs(\u001b[39m\"\u001b[39m\u001b[39mEPSG:2056\u001b[39m\u001b[39m\"\u001b[39m, \u001b[39m\"\u001b[39m\u001b[39mEPSG:4326\u001b[39m\u001b[39m\"\u001b[39m)\n\u001b[0;32m----> <a href='vscode-notebook-cell:Untitled-1.ipynb?jupyter-notebook#W3sdW50aXRsZWQ%3D?line=2'>3</a>\u001b[0m df[\u001b[39m'\u001b[39;49m\u001b[39mlat\u001b[39;49m\u001b[39m'\u001b[39;49m], df[\u001b[39m'\u001b[39m\u001b[39mlon\u001b[39m\u001b[39m'\u001b[39m] \u001b[39m=\u001b[39m transformer\u001b[39m.\u001b[39mtransform(df[\u001b[39m\"\u001b[39m\u001b[39mgeometry.coordinates\u001b[39m\u001b[39m\"\u001b[39m][\u001b[39m0\u001b[39m],df[\u001b[39m\"\u001b[39m\u001b[39mgeometry.coordinates\u001b[39m\u001b[39m\"\u001b[39m][\u001b[39m1\u001b[39m])\n",
      "File \u001b[0;32m~/repos/chantennas/.venv/lib/python3.11/site-packages/pandas/core/frame.py:4311\u001b[0m, in \u001b[0;36mDataFrame.__setitem__\u001b[0;34m(self, key, value)\u001b[0m\n\u001b[1;32m   4308\u001b[0m     \u001b[39mself\u001b[39m\u001b[39m.\u001b[39m_setitem_array([key], value)\n\u001b[1;32m   4309\u001b[0m \u001b[39melse\u001b[39;00m:\n\u001b[1;32m   4310\u001b[0m     \u001b[39m# set column\u001b[39;00m\n\u001b[0;32m-> 4311\u001b[0m     \u001b[39mself\u001b[39;49m\u001b[39m.\u001b[39;49m_set_item(key, value)\n",
      "File \u001b[0;32m~/repos/chantennas/.venv/lib/python3.11/site-packages/pandas/core/frame.py:4524\u001b[0m, in \u001b[0;36mDataFrame._set_item\u001b[0;34m(self, key, value)\u001b[0m\n\u001b[1;32m   4514\u001b[0m \u001b[39mdef\u001b[39;00m \u001b[39m_set_item\u001b[39m(\u001b[39mself\u001b[39m, key, value) \u001b[39m-\u001b[39m\u001b[39m>\u001b[39m \u001b[39mNone\u001b[39;00m:\n\u001b[1;32m   4515\u001b[0m \u001b[39m    \u001b[39m\u001b[39m\"\"\"\u001b[39;00m\n\u001b[1;32m   4516\u001b[0m \u001b[39m    Add series to DataFrame in specified column.\u001b[39;00m\n\u001b[1;32m   4517\u001b[0m \n\u001b[0;32m   (...)\u001b[0m\n\u001b[1;32m   4522\u001b[0m \u001b[39m    ensure homogeneity.\u001b[39;00m\n\u001b[1;32m   4523\u001b[0m \u001b[39m    \"\"\"\u001b[39;00m\n\u001b[0;32m-> 4524\u001b[0m     value, refs \u001b[39m=\u001b[39m \u001b[39mself\u001b[39;49m\u001b[39m.\u001b[39;49m_sanitize_column(value)\n\u001b[1;32m   4526\u001b[0m     \u001b[39mif\u001b[39;00m (\n\u001b[1;32m   4527\u001b[0m         key \u001b[39min\u001b[39;00m \u001b[39mself\u001b[39m\u001b[39m.\u001b[39mcolumns\n\u001b[1;32m   4528\u001b[0m         \u001b[39mand\u001b[39;00m value\u001b[39m.\u001b[39mndim \u001b[39m==\u001b[39m \u001b[39m1\u001b[39m\n\u001b[1;32m   4529\u001b[0m         \u001b[39mand\u001b[39;00m \u001b[39mnot\u001b[39;00m \u001b[39misinstance\u001b[39m(value\u001b[39m.\u001b[39mdtype, ExtensionDtype)\n\u001b[1;32m   4530\u001b[0m     ):\n\u001b[1;32m   4531\u001b[0m         \u001b[39m# broadcast across multiple columns if necessary\u001b[39;00m\n\u001b[1;32m   4532\u001b[0m         \u001b[39mif\u001b[39;00m \u001b[39mnot\u001b[39;00m \u001b[39mself\u001b[39m\u001b[39m.\u001b[39mcolumns\u001b[39m.\u001b[39mis_unique \u001b[39mor\u001b[39;00m \u001b[39misinstance\u001b[39m(\u001b[39mself\u001b[39m\u001b[39m.\u001b[39mcolumns, MultiIndex):\n",
      "File \u001b[0;32m~/repos/chantennas/.venv/lib/python3.11/site-packages/pandas/core/frame.py:5266\u001b[0m, in \u001b[0;36mDataFrame._sanitize_column\u001b[0;34m(self, value)\u001b[0m\n\u001b[1;32m   5263\u001b[0m     \u001b[39mreturn\u001b[39;00m _reindex_for_setitem(value, \u001b[39mself\u001b[39m\u001b[39m.\u001b[39mindex)\n\u001b[1;32m   5265\u001b[0m \u001b[39mif\u001b[39;00m is_list_like(value):\n\u001b[0;32m-> 5266\u001b[0m     com\u001b[39m.\u001b[39;49mrequire_length_match(value, \u001b[39mself\u001b[39;49m\u001b[39m.\u001b[39;49mindex)\n\u001b[1;32m   5267\u001b[0m arr \u001b[39m=\u001b[39m sanitize_array(value, \u001b[39mself\u001b[39m\u001b[39m.\u001b[39mindex, copy\u001b[39m=\u001b[39m\u001b[39mTrue\u001b[39;00m, allow_2d\u001b[39m=\u001b[39m\u001b[39mTrue\u001b[39;00m)\n\u001b[1;32m   5268\u001b[0m \u001b[39mif\u001b[39;00m (\n\u001b[1;32m   5269\u001b[0m     \u001b[39misinstance\u001b[39m(value, Index)\n\u001b[1;32m   5270\u001b[0m     \u001b[39mand\u001b[39;00m value\u001b[39m.\u001b[39mdtype \u001b[39m==\u001b[39m \u001b[39m\"\u001b[39m\u001b[39mobject\u001b[39m\u001b[39m\"\u001b[39m\n\u001b[0;32m   (...)\u001b[0m\n\u001b[1;32m   5273\u001b[0m     \u001b[39m# TODO: Remove kludge in sanitize_array for string mode when enforcing\u001b[39;00m\n\u001b[1;32m   5274\u001b[0m     \u001b[39m# this deprecation\u001b[39;00m\n",
      "File \u001b[0;32m~/repos/chantennas/.venv/lib/python3.11/site-packages/pandas/core/common.py:573\u001b[0m, in \u001b[0;36mrequire_length_match\u001b[0;34m(data, index)\u001b[0m\n\u001b[1;32m    569\u001b[0m \u001b[39m\u001b[39m\u001b[39m\"\"\"\u001b[39;00m\n\u001b[1;32m    570\u001b[0m \u001b[39mCheck the length of data matches the length of the index.\u001b[39;00m\n\u001b[1;32m    571\u001b[0m \u001b[39m\"\"\"\u001b[39;00m\n\u001b[1;32m    572\u001b[0m \u001b[39mif\u001b[39;00m \u001b[39mlen\u001b[39m(data) \u001b[39m!=\u001b[39m \u001b[39mlen\u001b[39m(index):\n\u001b[0;32m--> 573\u001b[0m     \u001b[39mraise\u001b[39;00m \u001b[39mValueError\u001b[39;00m(\n\u001b[1;32m    574\u001b[0m         \u001b[39m\"\u001b[39m\u001b[39mLength of values \u001b[39m\u001b[39m\"\u001b[39m\n\u001b[1;32m    575\u001b[0m         \u001b[39mf\u001b[39m\u001b[39m\"\u001b[39m\u001b[39m(\u001b[39m\u001b[39m{\u001b[39;00m\u001b[39mlen\u001b[39m(data)\u001b[39m}\u001b[39;00m\u001b[39m) \u001b[39m\u001b[39m\"\u001b[39m\n\u001b[1;32m    576\u001b[0m         \u001b[39m\"\u001b[39m\u001b[39mdoes not match length of index \u001b[39m\u001b[39m\"\u001b[39m\n\u001b[1;32m    577\u001b[0m         \u001b[39mf\u001b[39m\u001b[39m\"\u001b[39m\u001b[39m(\u001b[39m\u001b[39m{\u001b[39;00m\u001b[39mlen\u001b[39m(index)\u001b[39m}\u001b[39;00m\u001b[39m)\u001b[39m\u001b[39m\"\u001b[39m\n\u001b[1;32m    578\u001b[0m     )\n",
      "\u001b[0;31mValueError\u001b[0m: Length of values (2) does not match length of index (19754)"
     ]
    }
   ],
   "source": [
    "from pyproj import Transformer\n",
    "transformer = Transformer.from_crs(\"EPSG:2056\", \"EPSG:4326\")\n",
    "df['lat'], df['lon'] = transformer.transform(df[\"geometry.coordinates\"][0],df[\"geometry.coordinates\"][1])"
   ]
  },
  {
   "cell_type": "code",
   "execution_count": 19,
   "metadata": {},
   "outputs": [],
   "source": [
    "operators = ['Salt', 'Sunrise', 'Swisscom']\n",
    "dfs = {}\n",
    "for operator in operators:\n",
    "    dfs[operator] = df[df[\"properties.station\"].str.contains(operator)]\n"
   ]
  },
  {
   "cell_type": "code",
   "execution_count": 22,
   "metadata": {},
   "outputs": [
    {
     "data": {
      "text/plain": [
       "dict_keys(['Salt', 'Sunrise', 'Swisscom'])"
      ]
     },
     "execution_count": 22,
     "metadata": {},
     "output_type": "execute_result"
    }
   ],
   "source": [
    "import pl"
   ]
  }
 ],
 "metadata": {
  "kernelspec": {
   "display_name": ".venv",
   "language": "python",
   "name": "python3"
  },
  "language_info": {
   "codemirror_mode": {
    "name": "ipython",
    "version": 3
   },
   "file_extension": ".py",
   "mimetype": "text/x-python",
   "name": "python",
   "nbconvert_exporter": "python",
   "pygments_lexer": "ipython3",
   "version": "3.11.10"
  }
 },
 "nbformat": 4,
 "nbformat_minor": 2
}
